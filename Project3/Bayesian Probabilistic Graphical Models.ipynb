{
 "cells": [
  {
   "cell_type": "markdown",
   "metadata": {},
   "source": [
    "# Submission by Varun Nagaraj."
   ]
  },
  {
   "cell_type": "code",
   "execution_count": 69,
   "metadata": {},
   "outputs": [
    {
     "name": "stdout",
     "output_type": "stream",
     "text": [
      "Reference: https://ublearns.buffalo.edu/bbcswebdav/pid-4944430-dt-content-rid-22724271_1/\n",
      "courses/2191_19734_PsC/Building%20Probabilistic%20Graphical%20Models%20with%20Python.pdf\n",
      "UBIT number: 50290761\n",
      "UB name: varunnag\n"
     ]
    }
   ],
   "source": [
    "print(\"Reference: https://ublearns.buffalo.edu/bbcswebdav/pid-4944430-dt-content-rid-22724271_1/courses/2191_19734_PsC/Building%20Probabilistic%20Graphical%20Models%20with%20Python.pdf\")\n",
    "print(\"UBIT number: 50290761\")\n",
    "print(\"UB name: varunnag\")"
   ]
  },
  {
   "cell_type": "markdown",
   "metadata": {},
   "source": [
    "# Imports"
   ]
  },
  {
   "cell_type": "code",
   "execution_count": 2,
   "metadata": {},
   "outputs": [],
   "source": [
    "import bif_parser\n",
    "import prettytable as pt\n",
    "import pydotplus\n",
    "from IPython.core.display import display, Image\n",
    "from bayesian.bbn import *"
   ]
  },
  {
   "cell_type": "markdown",
   "metadata": {},
   "source": [
    "# Create the model using the asia bif file in the path."
   ]
  },
  {
   "cell_type": "code",
   "execution_count": 5,
   "metadata": {},
   "outputs": [],
   "source": [
    "module_name = bif_parser.parse('asia')\n",
    "module = __import__(module_name)\n",
    "bg = module.create_bbn()"
   ]
  },
  {
   "cell_type": "markdown",
   "metadata": {},
   "source": [
    "# Input image and plot using graphviz"
   ]
  },
  {
   "cell_type": "code",
   "execution_count": 11,
   "metadata": {},
   "outputs": [
    {
     "data": {
      "text/plain": [
       "True"
      ]
     },
     "execution_count": 11,
     "metadata": {},
     "output_type": "execute_result"
    }
   ],
   "source": [
    "s0 = bg.get_graphviz_source()\n",
    "inp = pydotplus.graph_from_dot_data(s0)\n",
    "inp.write_png('inp.png')"
   ]
  },
  {
   "cell_type": "markdown",
   "metadata": {},
   "source": [
    "![Input Tree](inp.png \"Title\")"
   ]
  },
  {
   "cell_type": "markdown",
   "metadata": {},
   "source": [
    "# Create a moralized graph by taking the undirected copy of the graph and creating a path between parents of a node if there are 2 or more."
   ]
  },
  {
   "cell_type": "code",
   "execution_count": 13,
   "metadata": {},
   "outputs": [
    {
     "data": {
      "text/plain": [
       "True"
      ]
     },
     "execution_count": 13,
     "metadata": {},
     "output_type": "execute_result"
    }
   ],
   "source": [
    "gu = make_undirected_copy(bg)\n",
    "m1 = make_moralized_copy(gu, bg)\n",
    "s1 = m1.get_graphviz_source()\n",
    "graph1 = pydotplus.graph_from_dot_data(s1)\n",
    "graph1.write_png('temp1.png')"
   ]
  },
  {
   "cell_type": "markdown",
   "metadata": {},
   "source": [
    "![Moralized Tree](temp1.png \"h1\")"
   ]
  },
  {
   "cell_type": "markdown",
   "metadata": {},
   "source": [
    "# After moralizing the graph, now we can triangulate the graph by adding an edge to adjacent vertices in cycles of length greater than or equal to 4."
   ]
  },
  {
   "cell_type": "code",
   "execution_count": 14,
   "metadata": {},
   "outputs": [
    {
     "data": {
      "text/plain": [
       "True"
      ]
     },
     "execution_count": 14,
     "metadata": {},
     "output_type": "execute_result"
    }
   ],
   "source": [
    "cliques, elimination_ordering = triangulate(m1, priority_func)\n",
    "s2 = m1.get_graphviz_source()\n",
    "graph2 = pydotplus.graph_from_dot_data(s2)\n",
    "graph2.write_png('temp2.png')"
   ]
  },
  {
   "cell_type": "markdown",
   "metadata": {},
   "source": [
    "![Triangulated Tree](temp2.png \"Title\")"
   ]
  },
  {
   "cell_type": "markdown",
   "metadata": {},
   "source": [
    "# We can now build the junction tree, which  creates cliques according to the preceding graph and creates the sepsets which are the intersection points between every pair of cliques."
   ]
  },
  {
   "cell_type": "code",
   "execution_count": 15,
   "metadata": {},
   "outputs": [
    {
     "data": {
      "text/plain": [
       "True"
      ]
     },
     "execution_count": 15,
     "metadata": {},
     "output_type": "execute_result"
    }
   ],
   "source": [
    "jt = bg.build_join_tree()\n",
    "s3 = jt.get_graphviz_source()\n",
    "graph2 = pydotplus.graph_from_dot_data(s3)\n",
    "graph2.write_png('temp3.png')"
   ]
  },
  {
   "cell_type": "markdown",
   "metadata": {},
   "source": [
    "![Junction Tree](temp3.png \"Title\")"
   ]
  },
  {
   "cell_type": "markdown",
   "metadata": {},
   "source": [
    "# Running Intersection Property"
   ]
  },
  {
   "cell_type": "markdown",
   "metadata": {},
   "source": [
    " This property states that if a node appears in two cliques, it should also appear in all the nodes on the path that connect the two cliques. In the above junction tree this property can be validated. We can see that if there is a node appearing in 2 or more clusters say bronc, then there will be a node on the path connecting the two clusters i.e \"bronceither\". This proves the running intersection property."
   ]
  },
  {
   "cell_type": "markdown",
   "metadata": {},
   "source": [
    "# Initialize the potentials for the cliques."
   ]
  },
  {
   "cell_type": "code",
   "execution_count": 67,
   "metadata": {},
   "outputs": [],
   "source": [
    "assignments = jt.assign_clusters(bg)\n",
    "jt.initialize_potentials(assignments, bg)"
   ]
  },
  {
   "cell_type": "markdown",
   "metadata": {},
   "source": [
    "# There are two messages sent between each pair of cliques: one in a forward and another in a reverse pass. There are three actors in a message pass: the source cluster, the intervening sepset, and the destination cluster."
   ]
  },
  {
   "cell_type": "code",
   "execution_count": 24,
   "metadata": {},
   "outputs": [],
   "source": [
    "jt.propagate()"
   ]
  },
  {
   "cell_type": "code",
   "execution_count": 27,
   "metadata": {},
   "outputs": [
    {
     "name": "stdout",
     "output_type": "stream",
     "text": [
      "['asia', 'tub']\n",
      "['bronc', 'dysp', 'either']\n",
      "['bronc', 'either', 'smoke']\n",
      "['either', 'lung', 'tub']\n",
      "['either', 'lung', 'smoke']\n",
      "['either', 'xray']\n"
     ]
    }
   ],
   "source": [
    "for i in jt.clique_nodes:\n",
    "    print i.variable_names"
   ]
  },
  {
   "cell_type": "markdown",
   "metadata": {},
   "source": [
    "# Once all the message passing is done, we are left with a tree that has consistent beliefs in all its clusters. On querying for a particular variable (for example, bronc), we just have to find a cluster (or a sepset) that has bronc in its scope and marginalize the other variables."
   ]
  },
  {
   "cell_type": "code",
   "execution_count": 31,
   "metadata": {},
   "outputs": [],
   "source": [
    "bronc_clust = [i for i in jt.clique_nodes for v in i.variable_names if v =='bronc']\n",
    "pot = bronc_clust[0].potential_tt\n",
    "pot2 = bronc_clust[1].potential_tt"
   ]
  },
  {
   "cell_type": "markdown",
   "metadata": {},
   "source": [
    "# Marginal for Bronc found by marginalizing Dysp and Either potentials"
   ]
  },
  {
   "cell_type": "code",
   "execution_count": 29,
   "metadata": {},
   "outputs": [
    {
     "data": {
      "text/plain": [
       "{(('bronc', 'no'), ('dysp', 'no'), ('either', 'no')): 0.46892195999999986,\n",
       " (('bronc', 'no'), ('dysp', 'no'), ('either', 'yes')): 0.008692680000000001,\n",
       " (('bronc', 'no'), ('dysp', 'yes'), ('either', 'no')): 0.052102439999999986,\n",
       " (('bronc', 'no'), ('dysp', 'yes'), ('either', 'yes')): 0.020282920000000003,\n",
       " (('bronc', 'yes'), ('dysp', 'no'), ('either', 'no')): 0.08282951999999998,\n",
       " (('bronc', 'yes'), ('dysp', 'no'), ('either', 'yes')): 0.0035852400000000017,\n",
       " (('bronc', 'yes'), ('dysp', 'yes'), ('either', 'no')): 0.3313180799999999,\n",
       " (('bronc', 'yes'), ('dysp', 'yes'), ('either', 'yes')): 0.03226716000000002}"
      ]
     },
     "execution_count": 29,
     "metadata": {},
     "output_type": "execute_result"
    }
   ],
   "source": [
    "pot"
   ]
  },
  {
   "cell_type": "markdown",
   "metadata": {},
   "source": [
    "# Marginal for Bronc found by marginalizing Smoke and Either potentials"
   ]
  },
  {
   "cell_type": "code",
   "execution_count": 32,
   "metadata": {},
   "outputs": [
    {
     "data": {
      "text/plain": [
       "{(('bronc', 'no'), ('either', 'no'), ('smoke', 'no')): 0.3428963999999999,\n",
       " (('bronc', 'no'), ('either', 'no'), ('smoke', 'yes')): 0.17812799999999998,\n",
       " (('bronc', 'no'), ('either', 'yes'), ('smoke', 'no')): 0.0071036,\n",
       " (('bronc', 'no'), ('either', 'yes'), ('smoke', 'yes')): 0.021872000000000006,\n",
       " (('bronc', 'yes'), ('either', 'no'), ('smoke', 'no')): 0.14695559999999996,\n",
       " (('bronc', 'yes'), ('either', 'no'), ('smoke', 'yes')): 0.26719199999999993,\n",
       " (('bronc', 'yes'), ('either', 'yes'), ('smoke', 'no')): 0.003044400000000001,\n",
       " (('bronc', 'yes'), ('either', 'yes'), ('smoke', 'yes')): 0.03280800000000002}"
      ]
     },
     "execution_count": 32,
     "metadata": {},
     "output_type": "execute_result"
    }
   ],
   "source": [
    "pot2"
   ]
  },
  {
   "cell_type": "markdown",
   "metadata": {},
   "source": [
    "# We claim that the cluster will have the same marginals. To prove this consider the cluster (bronc, dysp, either) and (bronc, smoke, either). When we check the values of bronc we can see that the marginals of bronc are the same across both the clusters. This indicated that the message passing has worked correctly and the belief for all the variables is consistent across all the clusters in the graph."
   ]
  },
  {
   "cell_type": "code",
   "execution_count": 62,
   "metadata": {},
   "outputs": [
    {
     "name": "stdout",
     "output_type": "stream",
     "text": [
      "bronc: True  0.45  False  0.55\n",
      "bronc: True  0.45  False  0.55\n",
      "\n",
      "xray: True  0.11029004  False  0.88970996\n",
      "\n",
      "lung: True  0.055  False  0.945\n",
      "\n",
      "tub: True  0.0104  False  0.9896\n"
     ]
    }
   ],
   "source": [
    "sum_assignments =lambda imap, tup: sum([v for k, v in imap.iteritems() for i in k if i == tup])\n",
    "yes, no =[sum_assignments(pot, ('bronc', i)) for i in ['yes', 'no']]\n",
    "print 'bronc: True ', yes/float(yes+no), \" False \", no/float(yes+no)\n",
    "yes, no =[sum_assignments(pot2, ('bronc', i)) for i in ['yes', 'no']]\n",
    "print 'bronc: True ', yes/float(yes+no), \" False \", no/float(yes+no)\n",
    "\n",
    "xray_clust = [i for i in jt.clique_nodes for v in i.variable_names if v =='xray']\n",
    "xray_pot = xray_clust[0].potential_tt\n",
    "yes, no =[sum_assignments(xray_pot, ('xray', i)) for i in ['yes', 'no']]\n",
    "print '\\nxray: True ', yes/float(yes+no), \" False \", no/float(yes+no)\n",
    "\n",
    "lung_clust = [i for i in jt.clique_nodes for v in i.variable_names if v =='lung']\n",
    "lung_pot =lung_clust[0].potential_tt\n",
    "yes, no =[sum_assignments(lung_pot, ('lung', i)) for i in ['yes', 'no']]\n",
    "print '\\nlung: True ', yes/float(yes+no), \" False \", no/float(yes+no)\n",
    "\n",
    "tub_clust = [i for i in jt.clique_nodes for v in i.variable_names if v =='tub']\n",
    "tub_pot =tub_clust[0].potential_tt\n",
    "yes, no =[sum_assignments(tub_pot, ('tub', i)) for i in ['yes', 'no']]\n",
    "print '\\ntub: True ', yes/float(yes+no), \" False \", no/float(yes+no)"
   ]
  },
  {
   "cell_type": "markdown",
   "metadata": {},
   "source": [
    "# The above steps can be repeated to the other nodes in the network. This will again prove the belief propogation is consistent across all the nodes in the network."
   ]
  },
  {
   "cell_type": "code",
   "execution_count": 56,
   "metadata": {},
   "outputs": [
    {
     "data": {
      "text/plain": [
       "{(('either', 'no'), ('lung', 'no'), ('tub', 'no')): 0.9351719999999998,\n",
       " (('either', 'no'), ('lung', 'no'), ('tub', 'yes')): 0,\n",
       " (('either', 'no'), ('lung', 'yes'), ('tub', 'no')): 0,\n",
       " (('either', 'no'), ('lung', 'yes'), ('tub', 'yes')): 0,\n",
       " (('either', 'yes'), ('lung', 'no'), ('tub', 'no')): 0,\n",
       " (('either', 'yes'), ('lung', 'no'), ('tub', 'yes')): 0.009828000000000003,\n",
       " (('either', 'yes'), ('lung', 'yes'), ('tub', 'no')): 0.05442800000000001,\n",
       " (('either', 'yes'), ('lung', 'yes'), ('tub', 'yes')): 0.0005720000000000001}"
      ]
     },
     "execution_count": 56,
     "metadata": {},
     "output_type": "execute_result"
    }
   ],
   "source": [
    "lung_pot"
   ]
  },
  {
   "cell_type": "code",
   "execution_count": 57,
   "metadata": {},
   "outputs": [
    {
     "data": {
      "text/plain": [
       "{(('either', 'no'), ('xray', 'no')): 0.8884133999999998,\n",
       " (('either', 'no'), ('xray', 'yes')): 0.0467586,\n",
       " (('either', 'yes'), ('xray', 'no')): 0.0012965600000000002,\n",
       " (('either', 'yes'), ('xray', 'yes')): 0.06353144000000001}"
      ]
     },
     "execution_count": 57,
     "metadata": {},
     "output_type": "execute_result"
    }
   ],
   "source": [
    "xray_pot"
   ]
  },
  {
   "cell_type": "code",
   "execution_count": 58,
   "metadata": {},
   "outputs": [
    {
     "data": {
      "text/plain": [
       "{(('asia', 'no'), ('tub', 'no')): 0.9800999999999999,\n",
       " (('asia', 'no'), ('tub', 'yes')): 0.009900000000000003,\n",
       " (('asia', 'yes'), ('tub', 'no')): 0.009499999999999998,\n",
       " (('asia', 'yes'), ('tub', 'yes')): 0.0005000000000000001}"
      ]
     },
     "execution_count": 58,
     "metadata": {},
     "output_type": "execute_result"
    }
   ],
   "source": [
    "tub_pot"
   ]
  }
 ],
 "metadata": {
  "kernelspec": {
   "display_name": "Python 2",
   "language": "python",
   "name": "python2"
  },
  "language_info": {
   "codemirror_mode": {
    "name": "ipython",
    "version": 2
   },
   "file_extension": ".py",
   "mimetype": "text/x-python",
   "name": "python",
   "nbconvert_exporter": "python",
   "pygments_lexer": "ipython2",
   "version": "2.7.15"
  }
 },
 "nbformat": 4,
 "nbformat_minor": 2
}
